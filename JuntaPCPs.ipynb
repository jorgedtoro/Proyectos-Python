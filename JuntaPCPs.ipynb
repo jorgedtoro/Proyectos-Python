{
 "cells": [
  {
   "cell_type": "code",
   "execution_count": 1,
   "metadata": {},
   "outputs": [],
   "source": [
    "import pandas as pd\n",
    "import numpy as np\n",
    "import os\n",
    "import sys\n",
    "import shutil\n",
    "import time\n",
    "from random import randint\n",
    "import xlrd\n",
    "import openpyxl"
   ]
  },
  {
   "cell_type": "code",
   "execution_count": 2,
   "metadata": {},
   "outputs": [],
   "source": [
    "#ruta de las pcps\n",
    "ruta_pcps= \"C:/Users/67075622/El Corte Inglés, S.A/DEPARTAMENTO 152 - Documentos/CONTROL DE REBAJAS/promos macro/\""
   ]
  },
  {
   "cell_type": "code",
   "execution_count": 3,
   "metadata": {},
   "outputs": [],
   "source": [
    "#os.listdir(ruta_pcps)"
   ]
  },
  {
   "cell_type": "code",
   "execution_count": 4,
   "metadata": {},
   "outputs": [],
   "source": [
    "#junta todas las pcps del directorio\n",
    "df = pd.DataFrame()\n",
    "for archivo in os.listdir(ruta_pcps):       \n",
    "    df = df.append(pd.read_excel(ruta_pcps+archivo, sheet_name='DETALLE'),ignore_index=True)\n",
    " "
   ]
  },
  {
   "cell_type": "code",
   "execution_count": 5,
   "metadata": {},
   "outputs": [],
   "source": [
    "#df"
   ]
  },
  {
   "cell_type": "code",
   "execution_count": 6,
   "metadata": {},
   "outputs": [],
   "source": [
    "ruta_salida = \"C:/Users/67075622/El Corte Inglés, S.A/DEPARTAMENTO 152 - Documentos/CONTROL DE REBAJAS/\"\n",
    "writer = pd.ExcelWriter(ruta_salida+\"Total Escenarios.xlsx\", engine='xlsxwriter')\n",
    "df.to_excel(writer,sheet_name='Promociones')\n",
    "writer.save()"
   ]
  }
 ],
 "metadata": {
  "kernelspec": {
   "display_name": "Python 3.8.8 ('base')",
   "language": "python",
   "name": "python3"
  },
  "language_info": {
   "codemirror_mode": {
    "name": "ipython",
    "version": 3
   },
   "file_extension": ".py",
   "mimetype": "text/x-python",
   "name": "python",
   "nbconvert_exporter": "python",
   "pygments_lexer": "ipython3",
   "version": "3.8.8"
  },
  "vscode": {
   "interpreter": {
    "hash": "ad2bdc8ecc057115af97d19610ffacc2b4e99fae6737bb82f5d7fb13d2f2c186"
   }
  }
 },
 "nbformat": 4,
 "nbformat_minor": 4
}
