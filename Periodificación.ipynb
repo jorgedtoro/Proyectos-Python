{
 "cells": [
  {
   "cell_type": "markdown",
   "metadata": {},
   "source": []
  },
  {
   "cell_type": "code",
   "execution_count": null,
   "metadata": {},
   "outputs": [],
   "source": []
  },
  {
   "cell_type": "markdown",
   "metadata": {},
   "source": [
    "# PERIODIFICACIÓN DEPARTAMENTO 152\n",
    "\n",
    "##### Jorge de Toro"
   ]
  },
  {
   "cell_type": "code",
   "execution_count": 20,
   "metadata": {},
   "outputs": [],
   "source": [
    "import pandas as pd\n",
    "import numpy as np\n",
    "import os\n",
    "from datetime import datetime, date, timedelta\n",
    "import locale"
   ]
  },
  {
   "cell_type": "markdown",
   "metadata": {},
   "source": [
    "##### Cargamos las hojas de seguimiento y la de los % de reparto de samsung"
   ]
  },
  {
   "cell_type": "code",
   "execution_count": 21,
   "metadata": {},
   "outputs": [],
   "source": [
    "#CARGA HOJA DE SEGUIMIENTO\n",
    "#***************************************************************************************************************************\n",
    "\n",
    "hoja = pd.ExcelFile(\"C:/Users/67075622/OneDrive - El Corte Inglés, S.A/Python/152-HOJA DE SEGUIMIENTO VISTEX.xlsx\")\n",
    "hoja.sheet_names\n",
    "df1 = pd.read_excel(hoja, 'Seguimiento', na_values=['NA'], usecols=\"B:AA\",skiprows=3)\n",
    "\n",
    "#CARGA REPARTO SAMSUNG\n",
    "\n",
    "# dfRepartoSamsung=pd.read_excel(\"C:/Users/67075622/OneDrive - El Corte Inglés, S.A/Python/REPARTO SAMSUNG.xlsx\")\n",
    "\n"
   ]
  },
  {
   "cell_type": "code",
   "execution_count": 22,
   "metadata": {},
   "outputs": [
    {
     "data": {
      "text/html": [
       "<div>\n",
       "<style scoped>\n",
       "    .dataframe tbody tr th:only-of-type {\n",
       "        vertical-align: middle;\n",
       "    }\n",
       "\n",
       "    .dataframe tbody tr th {\n",
       "        vertical-align: top;\n",
       "    }\n",
       "\n",
       "    .dataframe thead th {\n",
       "        text-align: right;\n",
       "    }\n",
       "</style>\n",
       "<table border=\"1\" class=\"dataframe\">\n",
       "  <thead>\n",
       "    <tr style=\"text-align: right;\">\n",
       "      <th></th>\n",
       "      <th>PROMOCIÓN</th>\n",
       "      <th>Fecha inicio</th>\n",
       "      <th>Fecha Fin</th>\n",
       "      <th>Motivo</th>\n",
       "      <th>PROVEEDOR</th>\n",
       "      <th>NOM PROVEEDOR</th>\n",
       "      <th>FAMILIA</th>\n",
       "      <th>MARCA</th>\n",
       "      <th>COSTE ECI</th>\n",
       "      <th>ESTIMACIÓN</th>\n",
       "      <th>...</th>\n",
       "      <th>FECHA LIQUIDACIÓN</th>\n",
       "      <th>OBSERVACIONES</th>\n",
       "      <th>ESTADO</th>\n",
       "      <th>PERIODIFICAR</th>\n",
       "      <th>CONCEPTO ANALITICA</th>\n",
       "      <th>AÑO</th>\n",
       "      <th>MES</th>\n",
       "      <th>FI</th>\n",
       "      <th>FF</th>\n",
       "      <th>Marca Vistex</th>\n",
       "    </tr>\n",
       "  </thead>\n",
       "  <tbody>\n",
       "    <tr>\n",
       "      <th>0</th>\n",
       "      <td>SELLOUT EQUIPO FELIZ</td>\n",
       "      <td>2020-01-01</td>\n",
       "      <td>2020-01-07</td>\n",
       "      <td>OFERTA</td>\n",
       "      <td>303321</td>\n",
       "      <td>ESPRINET IBERICA, SLU</td>\n",
       "      <td>LAPTOP</td>\n",
       "      <td>LENOVO</td>\n",
       "      <td>0.00</td>\n",
       "      <td>0.00</td>\n",
       "      <td>...</td>\n",
       "      <td>2020-02-28 00:00:00</td>\n",
       "      <td>Enviado el 10/02/2019</td>\n",
       "      <td>FINALIZADA</td>\n",
       "      <td>0.0</td>\n",
       "      <td>60000940</td>\n",
       "      <td>2020</td>\n",
       "      <td>1</td>\n",
       "      <td>2020-01-01</td>\n",
       "      <td>2020-01-07</td>\n",
       "      <td>3767</td>\n",
       "    </tr>\n",
       "    <tr>\n",
       "      <th>1</th>\n",
       "      <td>ACCIONES MICROSITE Y MESAS NOVEDADES LG</td>\n",
       "      <td>2020-01-01</td>\n",
       "      <td>2020-01-28</td>\n",
       "      <td>OFERTA</td>\n",
       "      <td>83303</td>\n",
       "      <td>LG ELECTRONICS ESPA#A, S.A.U.</td>\n",
       "      <td>LAPTOP</td>\n",
       "      <td>LG</td>\n",
       "      <td>0.00</td>\n",
       "      <td>40000.00</td>\n",
       "      <td>...</td>\n",
       "      <td>2020-01-31 00:00:00</td>\n",
       "      <td>CORREO RAÚL PESCADOR 28-01-2020. Se compensan ...</td>\n",
       "      <td>FINALIZADA</td>\n",
       "      <td>0.0</td>\n",
       "      <td>60000940</td>\n",
       "      <td>2020</td>\n",
       "      <td>1</td>\n",
       "      <td>2020-01-01</td>\n",
       "      <td>2020-01-28</td>\n",
       "      <td>0382</td>\n",
       "    </tr>\n",
       "    <tr>\n",
       "      <th>2</th>\n",
       "      <td>Sell In Samsung Enero 2020</td>\n",
       "      <td>2020-01-01</td>\n",
       "      <td>2020-01-31</td>\n",
       "      <td>OFERTA</td>\n",
       "      <td>239061</td>\n",
       "      <td>SAMSUNG ELECTRONICS IBERIA, S.A.</td>\n",
       "      <td>171</td>\n",
       "      <td>SAMSUNG</td>\n",
       "      <td>0.00</td>\n",
       "      <td>222779.96</td>\n",
       "      <td>...</td>\n",
       "      <td>2020-02-10 00:00:00</td>\n",
       "      <td>Enviado 05/02/2020</td>\n",
       "      <td>FINALIZADA</td>\n",
       "      <td>0.0</td>\n",
       "      <td>60000940</td>\n",
       "      <td>2020</td>\n",
       "      <td>1</td>\n",
       "      <td>2020-01-01</td>\n",
       "      <td>2020-01-31</td>\n",
       "      <td>0610</td>\n",
       "    </tr>\n",
       "    <tr>\n",
       "      <th>3</th>\n",
       "      <td>DEPRECIADOS VARIOS MEDION 18-19</td>\n",
       "      <td>2020-01-01</td>\n",
       "      <td>2020-02-02</td>\n",
       "      <td>LIQUIDACION</td>\n",
       "      <td>645192</td>\n",
       "      <td>MCR INFOELECTRONIC, S.L.</td>\n",
       "      <td>LAPTOP</td>\n",
       "      <td>MEDION</td>\n",
       "      <td>14733.77</td>\n",
       "      <td>14733.77</td>\n",
       "      <td>...</td>\n",
       "      <td>1900-01-01 00:00:00</td>\n",
       "      <td>LIQUIDADO CONJUNTAMENTE EN LOS ACUERDOS 186883...</td>\n",
       "      <td>FINALIZADA</td>\n",
       "      <td>0.0</td>\n",
       "      <td>60000940</td>\n",
       "      <td>2020</td>\n",
       "      <td>2</td>\n",
       "      <td>2020-01-01</td>\n",
       "      <td>2020-02-02</td>\n",
       "      <td>AXQB</td>\n",
       "    </tr>\n",
       "    <tr>\n",
       "      <th>4</th>\n",
       "      <td>FOTOS CATALOGOS Folletos Q1 ASUS</td>\n",
       "      <td>2020-01-01</td>\n",
       "      <td>2020-03-31</td>\n",
       "      <td>FOTO</td>\n",
       "      <td>233700</td>\n",
       "      <td>VINZEO INFORMATICA, S.L.</td>\n",
       "      <td>LAPTOP</td>\n",
       "      <td>ASUS</td>\n",
       "      <td>0.00</td>\n",
       "      <td>18000.00</td>\n",
       "      <td>...</td>\n",
       "      <td>2020-10-07 00:00:00</td>\n",
       "      <td>NaN</td>\n",
       "      <td>FINALIZADA</td>\n",
       "      <td>0.0</td>\n",
       "      <td>60000940</td>\n",
       "      <td>2020</td>\n",
       "      <td>3</td>\n",
       "      <td>2020-01-01</td>\n",
       "      <td>2020-03-31</td>\n",
       "      <td>1359</td>\n",
       "    </tr>\n",
       "  </tbody>\n",
       "</table>\n",
       "<p>5 rows × 26 columns</p>\n",
       "</div>"
      ],
      "text/plain": [
       "                                 PROMOCIÓN Fecha inicio  Fecha Fin  \\\n",
       "0                     SELLOUT EQUIPO FELIZ   2020-01-01 2020-01-07   \n",
       "1  ACCIONES MICROSITE Y MESAS NOVEDADES LG   2020-01-01 2020-01-28   \n",
       "2               Sell In Samsung Enero 2020   2020-01-01 2020-01-31   \n",
       "3          DEPRECIADOS VARIOS MEDION 18-19   2020-01-01 2020-02-02   \n",
       "4         FOTOS CATALOGOS Folletos Q1 ASUS   2020-01-01 2020-03-31   \n",
       "\n",
       "        Motivo  PROVEEDOR                     NOM PROVEEDOR FAMILIA    MARCA  \\\n",
       "0       OFERTA     303321             ESPRINET IBERICA, SLU  LAPTOP   LENOVO   \n",
       "1       OFERTA      83303     LG ELECTRONICS ESPA#A, S.A.U.  LAPTOP       LG   \n",
       "2       OFERTA     239061  SAMSUNG ELECTRONICS IBERIA, S.A.     171  SAMSUNG   \n",
       "3  LIQUIDACION     645192          MCR INFOELECTRONIC, S.L.  LAPTOP   MEDION   \n",
       "4         FOTO     233700          VINZEO INFORMATICA, S.L.  LAPTOP     ASUS   \n",
       "\n",
       "   COSTE ECI  ESTIMACIÓN  ...    FECHA LIQUIDACIÓN  \\\n",
       "0       0.00        0.00  ...  2020-02-28 00:00:00   \n",
       "1       0.00    40000.00  ...  2020-01-31 00:00:00   \n",
       "2       0.00   222779.96  ...  2020-02-10 00:00:00   \n",
       "3   14733.77    14733.77  ...  1900-01-01 00:00:00   \n",
       "4       0.00    18000.00  ...  2020-10-07 00:00:00   \n",
       "\n",
       "                                       OBSERVACIONES      ESTADO PERIODIFICAR  \\\n",
       "0                              Enviado el 10/02/2019  FINALIZADA          0.0   \n",
       "1  CORREO RAÚL PESCADOR 28-01-2020. Se compensan ...  FINALIZADA          0.0   \n",
       "2                                 Enviado 05/02/2020  FINALIZADA          0.0   \n",
       "3  LIQUIDADO CONJUNTAMENTE EN LOS ACUERDOS 186883...  FINALIZADA          0.0   \n",
       "4                                                NaN  FINALIZADA          0.0   \n",
       "\n",
       "  CONCEPTO ANALITICA   AÑO MES         FI         FF  Marca Vistex  \n",
       "0           60000940  2020   1 2020-01-01 2020-01-07          3767  \n",
       "1           60000940  2020   1 2020-01-01 2020-01-28          0382  \n",
       "2           60000940  2020   1 2020-01-01 2020-01-31          0610  \n",
       "3           60000940  2020   2 2020-01-01 2020-02-02          AXQB  \n",
       "4           60000940  2020   3 2020-01-01 2020-03-31          1359  \n",
       "\n",
       "[5 rows x 26 columns]"
      ]
     },
     "execution_count": 22,
     "metadata": {},
     "output_type": "execute_result"
    }
   ],
   "source": [
    "df1['PROVEEDOR'] = df1['PROVEEDOR'].astype('int')\n",
    "df1['FAMILIA'] = df1['FAMILIA'].astype('str')\n",
    "df1['MARCA'] = df1['MARCA'].astype('str')\n",
    "df1['Marca Vistex'] = df1['Marca Vistex'].astype('str')\n",
    "df1['ACUERDO'] = df1['ACUERDO'].astype('str')\n",
    "df1['Fecha inicio']= pd.to_datetime(df1['Fecha inicio'])\n",
    "df1['Fecha Fin']= pd.to_datetime(df1['Fecha Fin'])\n",
    "df1['IMPORTE LIQUIDADO'] = pd.to_numeric(df1['IMPORTE LIQUIDADO'])\n",
    "#df1['ESTIMACION'] = pd.to_numeric(df1['ESTIMACION'])\n",
    "df1['CONCEPTO ANALITICA'] = df1['CONCEPTO ANALITICA'].astype('str')\n",
    "\n",
    "#df1.info()\n",
    "df1.head()\n"
   ]
  },
  {
   "cell_type": "code",
   "execution_count": 23,
   "metadata": {},
   "outputs": [
    {
     "name": "stdout",
     "output_type": "stream",
     "text": [
      "2022-10-01 00:00:00\n"
     ]
    }
   ],
   "source": [
    "#VARIABLES PARA FILTRO DE FECHA\n",
    "#****************************************************************************************************************************************************************\n",
    "weekday = datetime.today().weekday()\n",
    "day = datetime.today()\n",
    "curr_date = date.today()\n",
    "month = datetime.now().month\n",
    "last_month = month -1\n",
    "year = datetime.now().year\n",
    "\n",
    "#hay que introducir el último día que queremos que tenga en cuenta\n",
    "Departamento = '152'\n",
    "last_day = \"2022-10-01 00:00:00\"\n",
    "#last_day = datetime(year,month,1)\n",
    "print(last_day)\n"
   ]
  },
  {
   "cell_type": "code",
   "execution_count": 24,
   "metadata": {},
   "outputs": [
    {
     "name": "stderr",
     "output_type": "stream",
     "text": [
      "C:\\Users\\67075622\\AppData\\Local\\Temp\\ipykernel_3792\\2777590184.py:8: SettingWithCopyWarning: \n",
      "A value is trying to be set on a copy of a slice from a DataFrame.\n",
      "Try using .loc[row_indexer,col_indexer] = value instead\n",
      "\n",
      "See the caveats in the documentation: https://pandas.pydata.org/pandas-docs/stable/user_guide/indexing.html#returning-a-view-versus-a-copy\n",
      "  dfDatos['PROVEEDOR'] = dfDatos['PROVEEDOR'].astype('str')\n",
      "C:\\Users\\67075622\\AppData\\Local\\Temp\\ipykernel_3792\\2777590184.py:10: FutureWarning: The default value of regex will change from True to False in a future version.\n",
      "  dfDatos['ACUERDO']= dfDatos['ACUERDO'].str.replace('\\.0','')\n",
      "C:\\Users\\67075622\\AppData\\Local\\Temp\\ipykernel_3792\\2777590184.py:10: SettingWithCopyWarning: \n",
      "A value is trying to be set on a copy of a slice from a DataFrame.\n",
      "Try using .loc[row_indexer,col_indexer] = value instead\n",
      "\n",
      "See the caveats in the documentation: https://pandas.pydata.org/pandas-docs/stable/user_guide/indexing.html#returning-a-view-versus-a-copy\n",
      "  dfDatos['ACUERDO']= dfDatos['ACUERDO'].str.replace('\\.0','')\n",
      "C:\\Users\\67075622\\AppData\\Local\\Temp\\ipykernel_3792\\2777590184.py:15: SettingWithCopyWarning: \n",
      "A value is trying to be set on a copy of a slice from a DataFrame\n",
      "\n",
      "See the caveats in the documentation: https://pandas.pydata.org/pandas-docs/stable/user_guide/indexing.html#returning-a-view-versus-a-copy\n",
      "  dfDatos['PROVEEDOR'][i] = \"0\" + dfDatos['PROVEEDOR'][i]\n",
      "C:\\Users\\67075622\\AppData\\Local\\Temp\\ipykernel_3792\\2777590184.py:25: SettingWithCopyWarning: \n",
      "A value is trying to be set on a copy of a slice from a DataFrame\n",
      "\n",
      "See the caveats in the documentation: https://pandas.pydata.org/pandas-docs/stable/user_guide/indexing.html#returning-a-view-versus-a-copy\n",
      "  dfDatos['PROVEEDOR'][i] = \"000000\" + dfDatos['PROVEEDOR'][i]\n",
      "C:\\Users\\67075622\\AppData\\Local\\Temp\\ipykernel_3792\\2777590184.py:17: SettingWithCopyWarning: \n",
      "A value is trying to be set on a copy of a slice from a DataFrame\n",
      "\n",
      "See the caveats in the documentation: https://pandas.pydata.org/pandas-docs/stable/user_guide/indexing.html#returning-a-view-versus-a-copy\n",
      "  dfDatos['PROVEEDOR'][i] = \"00\" + dfDatos['PROVEEDOR'][i]\n"
     ]
    }
   ],
   "source": [
    "#FILTROS PERIODIFICACIÓN\n",
    "#****************************************************************************************************************************************************************\n",
    "\n",
    "df2 = df1.loc[(df1['FI'] < last_day) & (df1['FF'] < last_day) & (df1['LIQUIDADO'] == \"NO\") & (df1['PERIODIFICAR'] > 0)]\n",
    "\n",
    "dfDatos = df2[['PROMOCIÓN','Fecha inicio', 'Fecha Fin', 'Motivo', 'PROVEEDOR', 'NOM PROVEEDOR', 'FAMILIA', 'MARCA','Marca Vistex','ACUERDO','PERIODIFICAR']]\n",
    "\n",
    "dfDatos['PROVEEDOR'] = dfDatos['PROVEEDOR'].astype('str')\n",
    "\n",
    "dfDatos['ACUERDO']= dfDatos['ACUERDO'].str.replace('\\.0','')\n",
    "\n",
    "for i in dfDatos.index:\n",
    "    largo= len(dfDatos['PROVEEDOR'][i])\n",
    "    if largo == 6:\n",
    "        dfDatos['PROVEEDOR'][i] = \"0\" + dfDatos['PROVEEDOR'][i]\n",
    "    if largo == 5:\n",
    "        dfDatos['PROVEEDOR'][i] = \"00\" + dfDatos['PROVEEDOR'][i]\n",
    "    if largo == 4:\n",
    "        dfDatos['PROVEEDOR'][i] = \"000\" + dfDatos['PROVEEDOR'][i]\n",
    "    if largo == 3:\n",
    "        dfDatos['PROVEEDOR'][i] = \"0000\" + dfDatos['PROVEEDOR'][i]\n",
    "    if largo == 2:\n",
    "        dfDatos['PROVEEDOR'][i] = \"00000\" + dfDatos['PROVEEDOR'][i]\n",
    "    if largo == 1:\n",
    "        dfDatos['PROVEEDOR'][i] = \"000000\" + dfDatos['PROVEEDOR'][i]\n",
    "\n",
    "\n",
    "df3 = df2[['PROVEEDOR', 'MARCA','Marca Vistex', 'PROMOCIÓN',\n",
    "           'CONCEPTO ANALITICA', 'PERIODIFICAR']]\n"
   ]
  },
  {
   "cell_type": "markdown",
   "metadata": {},
   "source": [
    "#### Total de periodificación y total de periodificación de samsung"
   ]
  },
  {
   "cell_type": "code",
   "execution_count": 25,
   "metadata": {},
   "outputs": [
    {
     "name": "stdout",
     "output_type": "stream",
     "text": [
      "      PROVEEDOR MARCA Marca Vistex                                  PROMOCIÓN  \\\n",
      "1628     645192  ACER         1072         PLANTILLAS COMERCIALES 2021 (ACER)   \n",
      "1629     233700  ACER         1072         PLANTILLAS COMERCIALES 2021 (ACER)   \n",
      "1630     645192  ASUS         1359     PLANTILLAS COMERCIALES 2021 (ASUS/FIX)   \n",
      "1631     645192  ASUS         1359  PLANTILLAS COMERCIALES 2021 (ASUS/NB+AIO)   \n",
      "1632     233700  ASUS         1359  PLANTILLAS COMERCIALES 2021 (ASUS/Online)   \n",
      "\n",
      "     CONCEPTO ANALITICA  PERIODIFICAR  \n",
      "1628           60000940      22166.13  \n",
      "1629           60000940     152920.77  \n",
      "1630           60000940      18098.71  \n",
      "1631           60000940     220178.80  \n",
      "1632           60000940      87876.02  \n",
      "\n",
      "\n",
      "******************************* TOTALES ***********************************************************************\n",
      "La cifra total a periodificar del departamento 152 es:         7,724,568.99€\n",
      "La cifra total a periodificar de Samsung del 152 es:           115,318.10€\n",
      "**************************************************************************************************************\n"
     ]
    }
   ],
   "source": [
    "#print(df2.head())\n",
    "print(df3.head())\n",
    "totalP = df3['PERIODIFICAR'].sum(axis=0)\n",
    "dfSamsung =df3[df3['PROVEEDOR']==239061]\n",
    "total_samsung = dfSamsung['PERIODIFICAR'].sum(axis=0)\n",
    "\n",
    "totalP=abs(totalP)\n",
    "totalP=round(totalP,2)\n",
    "locale.setlocale(locale.LC_ALL, '')\n",
    "locale.currency(totalP)\n",
    "locale.currency(totalP, grouping=True)\n",
    "print()\n",
    "print()\n",
    "print(\"******************************* TOTALES ***********************************************************************\")\n",
    "print(\"La cifra total a periodificar del departamento \"+ Departamento +\" es:\", '{:20,.2f}'.format(totalP)+'€')\n",
    "print(\"La cifra total a periodificar de Samsung del \"+ Departamento +\" es:\", '{:20,.2f}'.format(total_samsung)+'€')\n",
    "#print(totalP)\n",
    "print(\"**************************************************************************************************************\")"
   ]
  },
  {
   "cell_type": "markdown",
   "metadata": {},
   "source": [
    "##### Quitamos el proveedor samsung para luego repartir el total a centro"
   ]
  },
  {
   "cell_type": "code",
   "execution_count": 26,
   "metadata": {},
   "outputs": [],
   "source": [
    "# samsung = df3[df3['PROVEEDOR'] == 239061].index\n",
    "# df3.drop(samsung,inplace=True)"
   ]
  },
  {
   "cell_type": "code",
   "execution_count": 27,
   "metadata": {},
   "outputs": [],
   "source": [
    "# proveedores =['0233700','0233700','0609586','0233700','0904813','0609586','0233700','0904813','0609586','0609586']\n",
    "# marcas = ['ASUS','ASUS','HP','LENOVO','APPLE','HP','LENOVO','APPLE','HP','HP']\n",
    "# acciones=['COMPENSACIÓN MARGEN GRAN CASA','COMPENSACIÓN MARGEN GRAN CASA','PARTE CANARIAS','PARTE CANARIAS','PARTE CANARIAS',\n",
    "#           'PARTE CANARIAS','PARTE CANARIAS','PARTE CANARIAS','PARTE WEB', 'PARTE WEB']\n",
    "# concepto_analitica=['60000940','60000940','60000940','60000940','60000940','60000940','60000940','60000940','60000940','60000940']\n",
    "# df4=pd.DataFrame()\n",
    "# df4['CENTRO']=['050','716','050','050','050','012','098','912','090','050']\n",
    "# df4['PROVEEDOR']=proveedores\n",
    "# df4['MARCA']=marcas\n",
    "# df4['PROMOCIÓN']=acciones\n",
    "# df4['CONCEPTO ANALITICA']=concepto_analitica\n",
    "# df4['PERIODIFICAR']=[0,0,0,0,0,0,0,0,0,0]\n"
   ]
  },
  {
   "cell_type": "code",
   "execution_count": 28,
   "metadata": {},
   "outputs": [],
   "source": [
    "# df4.head()"
   ]
  },
  {
   "cell_type": "code",
   "execution_count": 29,
   "metadata": {
    "scrolled": true
   },
   "outputs": [
    {
     "name": "stderr",
     "output_type": "stream",
     "text": [
      "C:\\Users\\67075622\\AppData\\Local\\Temp\\ipykernel_3792\\3204938321.py:1: SettingWithCopyWarning: \n",
      "A value is trying to be set on a copy of a slice from a DataFrame.\n",
      "Try using .loc[row_indexer,col_indexer] = value instead\n",
      "\n",
      "See the caveats in the documentation: https://pandas.pydata.org/pandas-docs/stable/user_guide/indexing.html#returning-a-view-versus-a-copy\n",
      "  df3['CENTRO']='050'\n"
     ]
    }
   ],
   "source": [
    "df3['CENTRO']='050'\n",
    "# df5 = df4.append(df3)\n",
    "df5 = df3"
   ]
  },
  {
   "cell_type": "code",
   "execution_count": 30,
   "metadata": {},
   "outputs": [
    {
     "data": {
      "text/html": [
       "<div>\n",
       "<style scoped>\n",
       "    .dataframe tbody tr th:only-of-type {\n",
       "        vertical-align: middle;\n",
       "    }\n",
       "\n",
       "    .dataframe tbody tr th {\n",
       "        vertical-align: top;\n",
       "    }\n",
       "\n",
       "    .dataframe thead th {\n",
       "        text-align: right;\n",
       "    }\n",
       "</style>\n",
       "<table border=\"1\" class=\"dataframe\">\n",
       "  <thead>\n",
       "    <tr style=\"text-align: right;\">\n",
       "      <th></th>\n",
       "      <th>CENTRO</th>\n",
       "      <th>PROVEEDOR</th>\n",
       "      <th>MARCA</th>\n",
       "      <th>Marca Vistex</th>\n",
       "      <th>PROMOCIÓN</th>\n",
       "      <th>CONCEPTO ANALITICA</th>\n",
       "      <th>PERIODIFICAR</th>\n",
       "    </tr>\n",
       "  </thead>\n",
       "  <tbody>\n",
       "    <tr>\n",
       "      <th>1628</th>\n",
       "      <td>050</td>\n",
       "      <td>645192</td>\n",
       "      <td>ACER</td>\n",
       "      <td>1072</td>\n",
       "      <td>PLANTILLAS COMERCIALES 2021 (ACER)</td>\n",
       "      <td>60000940</td>\n",
       "      <td>22166.13</td>\n",
       "    </tr>\n",
       "    <tr>\n",
       "      <th>1629</th>\n",
       "      <td>050</td>\n",
       "      <td>233700</td>\n",
       "      <td>ACER</td>\n",
       "      <td>1072</td>\n",
       "      <td>PLANTILLAS COMERCIALES 2021 (ACER)</td>\n",
       "      <td>60000940</td>\n",
       "      <td>152920.77</td>\n",
       "    </tr>\n",
       "    <tr>\n",
       "      <th>1630</th>\n",
       "      <td>050</td>\n",
       "      <td>645192</td>\n",
       "      <td>ASUS</td>\n",
       "      <td>1359</td>\n",
       "      <td>PLANTILLAS COMERCIALES 2021 (ASUS/FIX)</td>\n",
       "      <td>60000940</td>\n",
       "      <td>18098.71</td>\n",
       "    </tr>\n",
       "    <tr>\n",
       "      <th>1631</th>\n",
       "      <td>050</td>\n",
       "      <td>645192</td>\n",
       "      <td>ASUS</td>\n",
       "      <td>1359</td>\n",
       "      <td>PLANTILLAS COMERCIALES 2021 (ASUS/NB+AIO)</td>\n",
       "      <td>60000940</td>\n",
       "      <td>220178.80</td>\n",
       "    </tr>\n",
       "    <tr>\n",
       "      <th>1632</th>\n",
       "      <td>050</td>\n",
       "      <td>233700</td>\n",
       "      <td>ASUS</td>\n",
       "      <td>1359</td>\n",
       "      <td>PLANTILLAS COMERCIALES 2021 (ASUS/Online)</td>\n",
       "      <td>60000940</td>\n",
       "      <td>87876.02</td>\n",
       "    </tr>\n",
       "  </tbody>\n",
       "</table>\n",
       "</div>"
      ],
      "text/plain": [
       "     CENTRO  PROVEEDOR MARCA Marca Vistex  \\\n",
       "1628    050     645192  ACER         1072   \n",
       "1629    050     233700  ACER         1072   \n",
       "1630    050     645192  ASUS         1359   \n",
       "1631    050     645192  ASUS         1359   \n",
       "1632    050     233700  ASUS         1359   \n",
       "\n",
       "                                      PROMOCIÓN CONCEPTO ANALITICA  \\\n",
       "1628         PLANTILLAS COMERCIALES 2021 (ACER)           60000940   \n",
       "1629         PLANTILLAS COMERCIALES 2021 (ACER)           60000940   \n",
       "1630     PLANTILLAS COMERCIALES 2021 (ASUS/FIX)           60000940   \n",
       "1631  PLANTILLAS COMERCIALES 2021 (ASUS/NB+AIO)           60000940   \n",
       "1632  PLANTILLAS COMERCIALES 2021 (ASUS/Online)           60000940   \n",
       "\n",
       "      PERIODIFICAR  \n",
       "1628      22166.13  \n",
       "1629     152920.77  \n",
       "1630      18098.71  \n",
       "1631     220178.80  \n",
       "1632      87876.02  "
      ]
     },
     "execution_count": 30,
     "metadata": {},
     "output_type": "execute_result"
    }
   ],
   "source": [
    "\n",
    "df5 = df5[['CENTRO','PROVEEDOR', 'MARCA','Marca Vistex', 'PROMOCIÓN',\n",
    "           'CONCEPTO ANALITICA', 'PERIODIFICAR']]\n",
    "df5.head()\n"
   ]
  },
  {
   "cell_type": "code",
   "execution_count": 31,
   "metadata": {},
   "outputs": [
    {
     "name": "stderr",
     "output_type": "stream",
     "text": [
      "C:\\Users\\67075622\\AppData\\Local\\Temp\\ipykernel_3792\\2092703318.py:5: SettingWithCopyWarning: \n",
      "A value is trying to be set on a copy of a slice from a DataFrame\n",
      "\n",
      "See the caveats in the documentation: https://pandas.pydata.org/pandas-docs/stable/user_guide/indexing.html#returning-a-view-versus-a-copy\n",
      "  df5['PROVEEDOR'][i] = \"0\" + df5['PROVEEDOR'][i]\n",
      "C:\\Users\\67075622\\AppData\\Local\\Temp\\ipykernel_3792\\2092703318.py:15: SettingWithCopyWarning: \n",
      "A value is trying to be set on a copy of a slice from a DataFrame\n",
      "\n",
      "See the caveats in the documentation: https://pandas.pydata.org/pandas-docs/stable/user_guide/indexing.html#returning-a-view-versus-a-copy\n",
      "  df5['PROVEEDOR'][i] = \"000000\" + df5['PROVEEDOR'][i]\n",
      "C:\\Users\\67075622\\AppData\\Local\\Temp\\ipykernel_3792\\2092703318.py:7: SettingWithCopyWarning: \n",
      "A value is trying to be set on a copy of a slice from a DataFrame\n",
      "\n",
      "See the caveats in the documentation: https://pandas.pydata.org/pandas-docs/stable/user_guide/indexing.html#returning-a-view-versus-a-copy\n",
      "  df5['PROVEEDOR'][i] = \"00\" + df5['PROVEEDOR'][i]\n"
     ]
    }
   ],
   "source": [
    "df5['PROVEEDOR'] = df5['PROVEEDOR'].astype('str')\n",
    "for i in df5.index:\n",
    "    largo= len(df5['PROVEEDOR'][i])\n",
    "    if largo == 6:\n",
    "        df5['PROVEEDOR'][i] = \"0\" + df5['PROVEEDOR'][i]\n",
    "    if largo == 5:\n",
    "        df5['PROVEEDOR'][i] = \"00\" + df5['PROVEEDOR'][i]\n",
    "    if largo == 4:\n",
    "        df5['PROVEEDOR'][i] = \"000\" + df5['PROVEEDOR'][i]\n",
    "    if largo == 3:\n",
    "        df5['PROVEEDOR'][i] = \"0000\" + df5['PROVEEDOR'][i]\n",
    "    if largo == 2:\n",
    "        df5['PROVEEDOR'][i] = \"00000\" + df5['PROVEEDOR'][i]\n",
    "    if largo == 1:\n",
    "        df5['PROVEEDOR'][i] = \"000000\" + df5['PROVEEDOR'][i]\n"
   ]
  },
  {
   "cell_type": "code",
   "execution_count": 32,
   "metadata": {},
   "outputs": [],
   "source": [
    "# print(df5)"
   ]
  },
  {
   "cell_type": "markdown",
   "metadata": {},
   "source": [
    "###### Realizamos el reparto de samsung. Juntamos los df en uno solo y exportamos a fichero excel"
   ]
  },
  {
   "cell_type": "code",
   "execution_count": 33,
   "metadata": {},
   "outputs": [],
   "source": [
    "# for x in dfRepartoSamsung['0152']:\n",
    "#     reparto = total_samsung * dfRepartoSamsung['0152']\n",
    "#     dfRepartoSamsung['reparto']=reparto"
   ]
  },
  {
   "cell_type": "code",
   "execution_count": 34,
   "metadata": {},
   "outputs": [],
   "source": [
    "# dfRepartoSamsung2 = dfRepartoSamsung[['Centro','reparto']]\n",
    "# dfRepartoSamsung2['CONCEPTO ANALITICA']='60000940'\n",
    "# dfRepartoSamsung2['PROVEEDOR']='0239061'\n",
    "# dfRepartoSamsung2['MARCA']='SAMSUNG'\n",
    "# dfRepartoSamsung2['PROMOCIÓN']='REPARTO SAMSUNG CENTRO'"
   ]
  },
  {
   "cell_type": "code",
   "execution_count": 35,
   "metadata": {},
   "outputs": [],
   "source": [
    "# dfRepartoSamsung2=dfRepartoSamsung2.rename(columns={'Centro':'CENTRO','reparto':'PERIODIFICAR'})"
   ]
  },
  {
   "cell_type": "code",
   "execution_count": 36,
   "metadata": {},
   "outputs": [],
   "source": [
    "# df6 = df5.append(dfRepartoSamsung2)"
   ]
  },
  {
   "cell_type": "code",
   "execution_count": 37,
   "metadata": {},
   "outputs": [],
   "source": [
    "# df6.head()"
   ]
  },
  {
   "cell_type": "code",
   "execution_count": 38,
   "metadata": {},
   "outputs": [],
   "source": [
    "writer = pd.ExcelWriter(\"C:/Users/67075622/OneDrive - El Corte Inglés, S.A/Python/PERIODIFICACION2.xlsx\", engine='xlsxwriter')\n",
    "\n",
    "dfDatos.to_excel(writer,sheet_name='datos')\n",
    "df5.to_excel(writer,sheet_name='periodificacion')\n",
    "\n",
    "writer.save()"
   ]
  }
 ],
 "metadata": {
  "kernelspec": {
   "display_name": "Python 3.10.7 64-bit (system)",
   "language": "python",
   "name": "python3"
  },
  "language_info": {
   "codemirror_mode": {
    "name": "ipython",
    "version": 3
   },
   "file_extension": ".py",
   "mimetype": "text/x-python",
   "name": "python",
   "nbconvert_exporter": "python",
   "pygments_lexer": "ipython3",
   "version": "3.10.7"
  },
  "vscode": {
   "interpreter": {
    "hash": "369f2c481f4da34e4445cda3fffd2e751bd1c4d706f27375911949ba6bb62e1c"
   }
  }
 },
 "nbformat": 4,
 "nbformat_minor": 4
}
