{
 "cells": [
  {
   "cell_type": "markdown",
   "metadata": {},
   "source": [
    "Añadimos las promociones nuevas a la hoja de seguimiento del 152."
   ]
  },
  {
   "cell_type": "code",
   "execution_count": 1,
   "metadata": {},
   "outputs": [],
   "source": [
    "import pandas as pd\n",
    "import numpy as np\n",
    "import os\n",
    "import sys\n",
    "import shutil\n",
    "import time\n",
    "from random import randint\n",
    "import xlrd\n",
    "import openpyxl\n",
    "# copyright Jorge de Toro de Murga #"
   ]
  },
  {
   "cell_type": "markdown",
   "metadata": {},
   "source": [
    "Añadimos las promos y los datos de proveedores"
   ]
  },
  {
   "cell_type": "code",
   "execution_count": 2,
   "metadata": {},
   "outputs": [],
   "source": [
    "rutaEscenarios = \"C:/Users/67075622/El Corte Inglés, S.A/División 21 - Documentos/0.PLANIFICACION/0.COLABORACIONES/152/Pdte Hoja Seguimiento/\"\n",
    "proveedores = pd.read_excel(\n",
    "    \"C:/Users/67075622/El Corte Inglés, S.A/DEPARTAMENTO 152 - Documentos/JT/Proveedores.xlsx\")\n",
    "\n",
    "# print(proveedores)"
   ]
  },
  {
   "cell_type": "markdown",
   "metadata": {},
   "source": [
    "Preparamos los dataFrame y limpiamos vacíos y datos no necesarios"
   ]
  },
  {
   "cell_type": "code",
   "execution_count": 3,
   "metadata": {},
   "outputs": [
    {
     "name": "stderr",
     "output_type": "stream",
     "text": [
      "C:\\Users\\67075622\\AppData\\Local\\Temp\\ipykernel_1280\\2917283350.py:4: FutureWarning: The frame.append method is deprecated and will be removed from pandas in a future version. Use pandas.concat instead.\n",
      "  df = df.append(pd.read_excel(rutaEscenarios+archivo,\n",
      "C:\\Users\\67075622\\AppData\\Local\\Temp\\ipykernel_1280\\2917283350.py:4: FutureWarning: The frame.append method is deprecated and will be removed from pandas in a future version. Use pandas.concat instead.\n",
      "  df = df.append(pd.read_excel(rutaEscenarios+archivo,\n",
      "C:\\Users\\67075622\\AppData\\Local\\Temp\\ipykernel_1280\\2917283350.py:4: FutureWarning: The frame.append method is deprecated and will be removed from pandas in a future version. Use pandas.concat instead.\n",
      "  df = df.append(pd.read_excel(rutaEscenarios+archivo,\n",
      "C:\\Users\\67075622\\AppData\\Local\\Temp\\ipykernel_1280\\2917283350.py:4: FutureWarning: The frame.append method is deprecated and will be removed from pandas in a future version. Use pandas.concat instead.\n",
      "  df = df.append(pd.read_excel(rutaEscenarios+archivo,\n",
      "C:\\Users\\67075622\\AppData\\Local\\Temp\\ipykernel_1280\\2917283350.py:4: FutureWarning: The frame.append method is deprecated and will be removed from pandas in a future version. Use pandas.concat instead.\n",
      "  df = df.append(pd.read_excel(rutaEscenarios+archivo,\n",
      "C:\\Users\\67075622\\AppData\\Local\\Temp\\ipykernel_1280\\2917283350.py:4: FutureWarning: The frame.append method is deprecated and will be removed from pandas in a future version. Use pandas.concat instead.\n",
      "  df = df.append(pd.read_excel(rutaEscenarios+archivo,\n",
      "C:\\Users\\67075622\\AppData\\Local\\Temp\\ipykernel_1280\\2917283350.py:4: FutureWarning: The frame.append method is deprecated and will be removed from pandas in a future version. Use pandas.concat instead.\n",
      "  df = df.append(pd.read_excel(rutaEscenarios+archivo,\n",
      "C:\\Users\\67075622\\AppData\\Local\\Temp\\ipykernel_1280\\2917283350.py:4: FutureWarning: The frame.append method is deprecated and will be removed from pandas in a future version. Use pandas.concat instead.\n",
      "  df = df.append(pd.read_excel(rutaEscenarios+archivo,\n",
      "C:\\Users\\67075622\\AppData\\Local\\Temp\\ipykernel_1280\\2917283350.py:4: FutureWarning: The frame.append method is deprecated and will be removed from pandas in a future version. Use pandas.concat instead.\n",
      "  df = df.append(pd.read_excel(rutaEscenarios+archivo,\n",
      "C:\\Users\\67075622\\AppData\\Local\\Temp\\ipykernel_1280\\2917283350.py:4: FutureWarning: The frame.append method is deprecated and will be removed from pandas in a future version. Use pandas.concat instead.\n",
      "  df = df.append(pd.read_excel(rutaEscenarios+archivo,\n",
      "C:\\Users\\67075622\\AppData\\Local\\Temp\\ipykernel_1280\\2917283350.py:4: FutureWarning: The frame.append method is deprecated and will be removed from pandas in a future version. Use pandas.concat instead.\n",
      "  df = df.append(pd.read_excel(rutaEscenarios+archivo,\n",
      "C:\\Users\\67075622\\AppData\\Local\\Temp\\ipykernel_1280\\2917283350.py:4: FutureWarning: The frame.append method is deprecated and will be removed from pandas in a future version. Use pandas.concat instead.\n",
      "  df = df.append(pd.read_excel(rutaEscenarios+archivo,\n",
      "C:\\Users\\67075622\\AppData\\Local\\Temp\\ipykernel_1280\\2917283350.py:4: FutureWarning: The frame.append method is deprecated and will be removed from pandas in a future version. Use pandas.concat instead.\n",
      "  df = df.append(pd.read_excel(rutaEscenarios+archivo,\n",
      "C:\\Users\\67075622\\AppData\\Local\\Temp\\ipykernel_1280\\2917283350.py:4: FutureWarning: The frame.append method is deprecated and will be removed from pandas in a future version. Use pandas.concat instead.\n",
      "  df = df.append(pd.read_excel(rutaEscenarios+archivo,\n",
      "C:\\Users\\67075622\\AppData\\Local\\Temp\\ipykernel_1280\\2917283350.py:4: FutureWarning: The frame.append method is deprecated and will be removed from pandas in a future version. Use pandas.concat instead.\n",
      "  df = df.append(pd.read_excel(rutaEscenarios+archivo,\n",
      "C:\\Users\\67075622\\AppData\\Local\\Temp\\ipykernel_1280\\2917283350.py:4: FutureWarning: The frame.append method is deprecated and will be removed from pandas in a future version. Use pandas.concat instead.\n",
      "  df = df.append(pd.read_excel(rutaEscenarios+archivo,\n",
      "C:\\Users\\67075622\\AppData\\Local\\Temp\\ipykernel_1280\\2917283350.py:4: FutureWarning: The frame.append method is deprecated and will be removed from pandas in a future version. Use pandas.concat instead.\n",
      "  df = df.append(pd.read_excel(rutaEscenarios+archivo,\n",
      "C:\\Users\\67075622\\AppData\\Local\\Temp\\ipykernel_1280\\2917283350.py:4: FutureWarning: The frame.append method is deprecated and will be removed from pandas in a future version. Use pandas.concat instead.\n",
      "  df = df.append(pd.read_excel(rutaEscenarios+archivo,\n",
      "C:\\Users\\67075622\\AppData\\Local\\Temp\\ipykernel_1280\\2917283350.py:4: FutureWarning: The frame.append method is deprecated and will be removed from pandas in a future version. Use pandas.concat instead.\n",
      "  df = df.append(pd.read_excel(rutaEscenarios+archivo,\n",
      "C:\\Users\\67075622\\AppData\\Local\\Temp\\ipykernel_1280\\2917283350.py:4: FutureWarning: The frame.append method is deprecated and will be removed from pandas in a future version. Use pandas.concat instead.\n",
      "  df = df.append(pd.read_excel(rutaEscenarios+archivo,\n",
      "C:\\Users\\67075622\\AppData\\Local\\Temp\\ipykernel_1280\\2917283350.py:4: FutureWarning: The frame.append method is deprecated and will be removed from pandas in a future version. Use pandas.concat instead.\n",
      "  df = df.append(pd.read_excel(rutaEscenarios+archivo,\n",
      "C:\\Users\\67075622\\AppData\\Local\\Temp\\ipykernel_1280\\2917283350.py:4: FutureWarning: The frame.append method is deprecated and will be removed from pandas in a future version. Use pandas.concat instead.\n",
      "  df = df.append(pd.read_excel(rutaEscenarios+archivo,\n",
      "C:\\Users\\67075622\\AppData\\Local\\Temp\\ipykernel_1280\\2917283350.py:4: FutureWarning: The frame.append method is deprecated and will be removed from pandas in a future version. Use pandas.concat instead.\n",
      "  df = df.append(pd.read_excel(rutaEscenarios+archivo,\n",
      "C:\\Users\\67075622\\AppData\\Local\\Temp\\ipykernel_1280\\2917283350.py:4: FutureWarning: The frame.append method is deprecated and will be removed from pandas in a future version. Use pandas.concat instead.\n",
      "  df = df.append(pd.read_excel(rutaEscenarios+archivo,\n",
      "C:\\Users\\67075622\\AppData\\Local\\Temp\\ipykernel_1280\\2917283350.py:4: FutureWarning: The frame.append method is deprecated and will be removed from pandas in a future version. Use pandas.concat instead.\n",
      "  df = df.append(pd.read_excel(rutaEscenarios+archivo,\n",
      "C:\\Users\\67075622\\AppData\\Local\\Temp\\ipykernel_1280\\2917283350.py:4: FutureWarning: The frame.append method is deprecated and will be removed from pandas in a future version. Use pandas.concat instead.\n",
      "  df = df.append(pd.read_excel(rutaEscenarios+archivo,\n",
      "C:\\Users\\67075622\\AppData\\Local\\Temp\\ipykernel_1280\\2917283350.py:4: FutureWarning: The frame.append method is deprecated and will be removed from pandas in a future version. Use pandas.concat instead.\n",
      "  df = df.append(pd.read_excel(rutaEscenarios+archivo,\n",
      "C:\\Users\\67075622\\AppData\\Local\\Temp\\ipykernel_1280\\2917283350.py:4: FutureWarning: The frame.append method is deprecated and will be removed from pandas in a future version. Use pandas.concat instead.\n",
      "  df = df.append(pd.read_excel(rutaEscenarios+archivo,\n",
      "C:\\Users\\67075622\\AppData\\Local\\Temp\\ipykernel_1280\\2917283350.py:4: FutureWarning: The frame.append method is deprecated and will be removed from pandas in a future version. Use pandas.concat instead.\n",
      "  df = df.append(pd.read_excel(rutaEscenarios+archivo,\n",
      "C:\\Users\\67075622\\AppData\\Local\\Temp\\ipykernel_1280\\2917283350.py:4: FutureWarning: The frame.append method is deprecated and will be removed from pandas in a future version. Use pandas.concat instead.\n",
      "  df = df.append(pd.read_excel(rutaEscenarios+archivo,\n",
      "C:\\Users\\67075622\\AppData\\Local\\Temp\\ipykernel_1280\\2917283350.py:4: FutureWarning: The frame.append method is deprecated and will be removed from pandas in a future version. Use pandas.concat instead.\n",
      "  df = df.append(pd.read_excel(rutaEscenarios+archivo,\n",
      "C:\\Users\\67075622\\AppData\\Local\\Temp\\ipykernel_1280\\2917283350.py:4: FutureWarning: The frame.append method is deprecated and will be removed from pandas in a future version. Use pandas.concat instead.\n",
      "  df = df.append(pd.read_excel(rutaEscenarios+archivo,\n",
      "C:\\Users\\67075622\\AppData\\Local\\Temp\\ipykernel_1280\\2917283350.py:4: FutureWarning: The frame.append method is deprecated and will be removed from pandas in a future version. Use pandas.concat instead.\n",
      "  df = df.append(pd.read_excel(rutaEscenarios+archivo,\n",
      "C:\\Users\\67075622\\AppData\\Local\\Temp\\ipykernel_1280\\2917283350.py:4: FutureWarning: The frame.append method is deprecated and will be removed from pandas in a future version. Use pandas.concat instead.\n",
      "  df = df.append(pd.read_excel(rutaEscenarios+archivo,\n",
      "C:\\Users\\67075622\\AppData\\Local\\Temp\\ipykernel_1280\\2917283350.py:4: FutureWarning: The frame.append method is deprecated and will be removed from pandas in a future version. Use pandas.concat instead.\n",
      "  df = df.append(pd.read_excel(rutaEscenarios+archivo,\n",
      "C:\\Users\\67075622\\AppData\\Local\\Temp\\ipykernel_1280\\2917283350.py:4: FutureWarning: The frame.append method is deprecated and will be removed from pandas in a future version. Use pandas.concat instead.\n",
      "  df = df.append(pd.read_excel(rutaEscenarios+archivo,\n"
     ]
    }
   ],
   "source": [
    "df = pd.DataFrame()\n",
    "\n",
    "for archivo in os.listdir(rutaEscenarios):\n",
    "    df = df.append(pd.read_excel(rutaEscenarios+archivo,\n",
    "                   sheet_name='RESUMEN'), ignore_index=True)\n",
    "\n",
    "\n",
    "\n",
    "\n",
    "# print(df)\n"
   ]
  },
  {
   "cell_type": "code",
   "execution_count": 4,
   "metadata": {},
   "outputs": [
    {
     "name": "stderr",
     "output_type": "stream",
     "text": [
      "C:\\Users\\67075622\\AppData\\Local\\Temp\\ipykernel_1280\\3893109160.py:11: SettingWithCopyWarning: \n",
      "A value is trying to be set on a copy of a slice from a DataFrame.\n",
      "Try using .loc[row_indexer,col_indexer] = value instead\n",
      "\n",
      "See the caveats in the documentation: https://pandas.pydata.org/pandas-docs/stable/user_guide/indexing.html#returning-a-view-versus-a-copy\n",
      "  df2[\"MOTIVO\"] = \"OFERTA\"\n"
     ]
    }
   ],
   "source": [
    "df1 = pd.DataFrame()\n",
    "\n",
    "df = df[df['PROMOCIÓN'].notna()]\n",
    "\n",
    "\n",
    "# df2 = df.append(df1)\n",
    "\n",
    "df2 = df[['PROMOCIÓN', 'FECHA INICIO', 'FECHA FIN', 'MOTIVO', 'PROVEEDOR',\n",
    "          'FAMILIA', 'MARCA', 'COSTE ECI', 'CARGO ESTIMADO AL PROVEEDOR']]\n",
    "# print(df2)\n",
    "df2[\"MOTIVO\"] = \"OFERTA\"\n"
   ]
  },
  {
   "cell_type": "code",
   "execution_count": 5,
   "metadata": {},
   "outputs": [
    {
     "name": "stdout",
     "output_type": "stream",
     "text": [
      "                           PROMOCIÓN  FECHA INICIO   FECHA FIN  MOTIVO  \\\n",
      "0     15% DESKTOPS FREEDOS (ACUMULA)    20220922.0  20220925.0  OFERTA   \n",
      "98     ACCION EXCLUSIVA WEB (090) HP    20221003.0  20221005.0  OFERTA   \n",
      "99     ACCION EXCLUSIVA WEB (090) HP    20221003.0  20221005.0  OFERTA   \n",
      "100    ACCION EXCLUSIVA WEB (090) HP    20221003.0  20221005.0  OFERTA   \n",
      "101   ACCION PRICING APPLE SEMANA 39    20220929.0  20221005.0  OFERTA   \n",
      "...                              ...           ...         ...     ...   \n",
      "1166       Supertecnoprecios Octubre    20221013.0  20221016.0  OFERTA   \n",
      "1167       Supertecnoprecios Octubre    20221013.0  20221016.0  OFERTA   \n",
      "1168       Supertecnoprecios Octubre    20221013.0  20221016.0  OFERTA   \n",
      "1236            TARIFA LENOVO 13 OCT    20221013.0  20991231.0  OFERTA   \n",
      "1237             TARIFA LENOVO 3 OCT    20221003.0  20991231.0  OFERTA   \n",
      "\n",
      "      PROVEEDOR  FAMILIA   MARCA    COSTE ECI  CARGO ESTIMADO AL PROVEEDOR  \n",
      "0      609586.0    153.0      HP          NaN                          NaN  \n",
      "98    1233700.0    161.0     NaN     7.550000                        17.60  \n",
      "99          NaN    161.0     NaN          NaN                          NaN  \n",
      "100    609586.0    161.0      HP  2089.420000                      1337.81  \n",
      "101    904813.0    151.0   APPLE  7314.657345                         0.00  \n",
      "...         ...      ...     ...          ...                          ...  \n",
      "1166   645192.0    148.0    ACER          NaN                          NaN  \n",
      "1167    83303.0    148.0      LG          NaN                          NaN  \n",
      "1168    83303.0    155.0      LG          NaN                          NaN  \n",
      "1236   303321.0    171.0  LENOVO   139.550000                     40340.84  \n",
      "1237   303321.0    171.0  LENOVO    40.053301                     15440.22  \n",
      "\n",
      "[146 rows x 9 columns]\n"
     ]
    }
   ],
   "source": [
    "print(df2)"
   ]
  },
  {
   "cell_type": "code",
   "execution_count": 6,
   "metadata": {},
   "outputs": [],
   "source": [
    "df3 = pd.merge(df2, proveedores)\n",
    "\n",
    "df3 = df3[['PROMOCIÓN', 'FECHA INICIO', 'FECHA FIN', 'MOTIVO', 'PROVEEDOR', 'NOMPROV',\n",
    "          'FAMILIA', 'MARCA', 'COSTE ECI', 'CARGO ESTIMADO AL PROVEEDOR']]\n",
    "df3 = df3.sort_values(\"PROMOCIÓN\")\n"
   ]
  },
  {
   "cell_type": "code",
   "execution_count": 7,
   "metadata": {},
   "outputs": [
    {
     "name": "stderr",
     "output_type": "stream",
     "text": [
      "C:\\Users\\67075622\\AppData\\Local\\Temp\\ipykernel_1280\\4187638788.py:6: FutureWarning: The default value of regex will change from True to False in a future version.\n",
      "  df3['PROVEEDOR']= df3['PROVEEDOR'].str.replace('\\.0','')\n",
      "C:\\Users\\67075622\\AppData\\Local\\Temp\\ipykernel_1280\\4187638788.py:7: FutureWarning: The default value of regex will change from True to False in a future version.\n",
      "  df3['FAMILIA']= df3['FAMILIA'].str.replace('\\.0','')\n",
      "C:\\Users\\67075622\\AppData\\Local\\Temp\\ipykernel_1280\\4187638788.py:8: FutureWarning: The default value of regex will change from True to False in a future version.\n",
      "  df3['FECHA INICIO']= df3['FECHA INICIO'].str.replace('\\.0','')\n",
      "C:\\Users\\67075622\\AppData\\Local\\Temp\\ipykernel_1280\\4187638788.py:9: FutureWarning: The default value of regex will change from True to False in a future version.\n",
      "  df3['FECHA FIN']= df3['FECHA FIN'].str.replace('\\.0','')\n"
     ]
    }
   ],
   "source": [
    "df3['PROVEEDOR'] = df3['PROVEEDOR'].astype('str')\n",
    "df3['FAMILIA'] = df3['FAMILIA'].astype('str')\n",
    "df3['FECHA INICIO'] = df3['FECHA INICIO'].astype('str')\n",
    "df3['FECHA FIN'] = df3['FECHA FIN'].astype('str')\n",
    "\n",
    "df3['PROVEEDOR']= df3['PROVEEDOR'].str.replace('\\.0','')\n",
    "df3['FAMILIA']= df3['FAMILIA'].str.replace('\\.0','')\n",
    "df3['FECHA INICIO']= df3['FECHA INICIO'].str.replace('\\.0','')\n",
    "df3['FECHA FIN']= df3['FECHA FIN'].str.replace('\\.0','')\n"
   ]
  },
  {
   "cell_type": "code",
   "execution_count": 8,
   "metadata": {},
   "outputs": [
    {
     "name": "stderr",
     "output_type": "stream",
     "text": [
      "C:\\Users\\67075622\\AppData\\Local\\Temp\\ipykernel_1280\\3907111722.py:4: SettingWithCopyWarning: \n",
      "A value is trying to be set on a copy of a slice from a DataFrame\n",
      "\n",
      "See the caveats in the documentation: https://pandas.pydata.org/pandas-docs/stable/user_guide/indexing.html#returning-a-view-versus-a-copy\n",
      "  df3['PROVEEDOR'][i] = \"0\" + df3['PROVEEDOR'][i]\n",
      "C:\\Users\\67075622\\AppData\\Local\\Temp\\ipykernel_1280\\3907111722.py:6: SettingWithCopyWarning: \n",
      "A value is trying to be set on a copy of a slice from a DataFrame\n",
      "\n",
      "See the caveats in the documentation: https://pandas.pydata.org/pandas-docs/stable/user_guide/indexing.html#returning-a-view-versus-a-copy\n",
      "  df3['PROVEEDOR'][i] = \"00\" + df3['PROVEEDOR'][i]\n",
      "C:\\Users\\67075622\\AppData\\Local\\Temp\\ipykernel_1280\\3907111722.py:8: SettingWithCopyWarning: \n",
      "A value is trying to be set on a copy of a slice from a DataFrame\n",
      "\n",
      "See the caveats in the documentation: https://pandas.pydata.org/pandas-docs/stable/user_guide/indexing.html#returning-a-view-versus-a-copy\n",
      "  df3['PROVEEDOR'][i] = \"000\" + df3['PROVEEDOR'][i]\n"
     ]
    }
   ],
   "source": [
    "for i in df3.index:\n",
    "    largo = len(df3['PROVEEDOR'][i])\n",
    "    if largo == 6:\n",
    "        df3['PROVEEDOR'][i] = \"0\" + df3['PROVEEDOR'][i]\n",
    "    if largo == 5:\n",
    "        df3['PROVEEDOR'][i] = \"00\" + df3['PROVEEDOR'][i]\n",
    "    if largo == 4:\n",
    "        df3['PROVEEDOR'][i] = \"000\" + df3['PROVEEDOR'][i]\n",
    "    if largo == 3:\n",
    "        df3['PROVEEDOR'][i] = \"0000\" + df3['PROVEEDOR'][i]\n",
    "    if largo == 2:\n",
    "        df3['PROVEEDOR'][i] = \"00000\" + df3['PROVEEDOR'][i]\n",
    "    if largo == 1:\n",
    "        df3['PROVEEDOR'][i] = \"000000\" + df3['PROVEEDOR'][i]\n",
    "\n",
    "\n"
   ]
  },
  {
   "cell_type": "markdown",
   "metadata": {},
   "source": [
    "Exportamos el fichero con el total"
   ]
  },
  {
   "cell_type": "code",
   "execution_count": 9,
   "metadata": {},
   "outputs": [],
   "source": [
    "writer = pd.ExcelWriter(\n",
    "    rutaEscenarios + \"Total Escenarios.xlsx\", engine='xlsxwriter')\n",
    "df3.to_excel(writer, sheet_name='Promociones')\n",
    "writer.save()\n"
   ]
  }
 ],
 "metadata": {
  "kernelspec": {
   "display_name": "Python 3.10.7 64-bit (system)",
   "language": "python",
   "name": "python3"
  },
  "language_info": {
   "codemirror_mode": {
    "name": "ipython",
    "version": 3
   },
   "file_extension": ".py",
   "mimetype": "text/x-python",
   "name": "python",
   "nbconvert_exporter": "python",
   "pygments_lexer": "ipython3",
   "version": "3.10.7"
  },
  "orig_nbformat": 4,
  "vscode": {
   "interpreter": {
    "hash": "369f2c481f4da34e4445cda3fffd2e751bd1c4d706f27375911949ba6bb62e1c"
   }
  }
 },
 "nbformat": 4,
 "nbformat_minor": 2
}
