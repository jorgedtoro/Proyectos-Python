{
 "cells": [
  {
   "cell_type": "code",
   "execution_count": 1,
   "metadata": {},
   "outputs": [],
   "source": [
    "import pandas as pd\n",
    "import numpy as np\n",
    "import os\n",
    "import sys\n",
    "import shutil\n",
    "import time\n",
    "from random import randint\n",
    "import xlrd\n",
    "import openpyxl"
   ]
  },
  {
   "cell_type": "code",
   "execution_count": 4,
   "metadata": {},
   "outputs": [],
   "source": [
    "#Ruta fichero\n",
    "rutaFichero = \"C:/Users/67075622/OneDrive - El Corte Inglés, S.A/PLANIFICACION/7.DASHBOARD/\"\n",
    "fichero = \"venta diaria 152.xlsx\""
   ]
  },
  {
   "cell_type": "code",
   "execution_count": 65,
   "metadata": {},
   "outputs": [
    {
     "ename": "AttributeError",
     "evalue": "'Series' object has no attribute 'method'",
     "output_type": "error",
     "traceback": [
      "\u001b[1;31m---------------------------------------------------------------------------\u001b[0m",
      "\u001b[1;31mAttributeError\u001b[0m                            Traceback (most recent call last)",
      "\u001b[1;32m<ipython-input-65-4534a3202d13>\u001b[0m in \u001b[0;36m<module>\u001b[1;34m\u001b[0m\n\u001b[0;32m      9\u001b[0m \u001b[0mdf2\u001b[0m\u001b[1;33m[\u001b[0m\u001b[1;34m'Artículo'\u001b[0m\u001b[1;33m]\u001b[0m \u001b[1;33m=\u001b[0m \u001b[0mdf2\u001b[0m\u001b[1;33m[\u001b[0m\u001b[1;34m'Artículo'\u001b[0m\u001b[1;33m]\u001b[0m\u001b[1;33m.\u001b[0m\u001b[0mastype\u001b[0m\u001b[1;33m(\u001b[0m\u001b[0mstr\u001b[0m\u001b[1;33m)\u001b[0m\u001b[1;33m\u001b[0m\u001b[1;33m\u001b[0m\u001b[0m\n\u001b[0;32m     10\u001b[0m \u001b[0mdf2\u001b[0m\u001b[1;33m[\u001b[0m\u001b[1;34m'NProveedor'\u001b[0m\u001b[1;33m]\u001b[0m \u001b[1;33m=\u001b[0m \u001b[0mdf2\u001b[0m\u001b[1;33m[\u001b[0m\u001b[1;34m'NProveedor'\u001b[0m\u001b[1;33m]\u001b[0m\u001b[1;33m.\u001b[0m\u001b[0mapply\u001b[0m\u001b[1;33m(\u001b[0m\u001b[0mstr\u001b[0m\u001b[1;33m)\u001b[0m\u001b[1;33m\u001b[0m\u001b[1;33m\u001b[0m\u001b[0m\n\u001b[1;32m---> 11\u001b[1;33m \u001b[0mdf2\u001b[0m\u001b[1;33m[\u001b[0m\u001b[1;34m'Familia'\u001b[0m\u001b[1;33m]\u001b[0m \u001b[1;33m=\u001b[0m \u001b[0mdf2\u001b[0m\u001b[1;33m[\u001b[0m\u001b[1;34m'Artículo'\u001b[0m\u001b[1;33m]\u001b[0m\u001b[1;33m.\u001b[0m\u001b[0mmethod\u001b[0m\u001b[1;33m.\u001b[0m\u001b[0mstr\u001b[0m\u001b[1;33m.\u001b[0m\u001b[0mextract\u001b[0m\u001b[1;33m[\u001b[0m\u001b[1;36m5\u001b[0m\u001b[1;33m:\u001b[0m\u001b[1;36m3\u001b[0m\u001b[1;33m]\u001b[0m\u001b[1;33m\u001b[0m\u001b[1;33m\u001b[0m\u001b[0m\n\u001b[0m",
      "\u001b[1;32mC:\\ProgramData\\Anaconda3\\lib\\site-packages\\pandas\\core\\generic.py\u001b[0m in \u001b[0;36m__getattr__\u001b[1;34m(self, name)\u001b[0m\n\u001b[0;32m   5463\u001b[0m             \u001b[1;32mif\u001b[0m \u001b[0mself\u001b[0m\u001b[1;33m.\u001b[0m\u001b[0m_info_axis\u001b[0m\u001b[1;33m.\u001b[0m\u001b[0m_can_hold_identifiers_and_holds_name\u001b[0m\u001b[1;33m(\u001b[0m\u001b[0mname\u001b[0m\u001b[1;33m)\u001b[0m\u001b[1;33m:\u001b[0m\u001b[1;33m\u001b[0m\u001b[1;33m\u001b[0m\u001b[0m\n\u001b[0;32m   5464\u001b[0m                 \u001b[1;32mreturn\u001b[0m \u001b[0mself\u001b[0m\u001b[1;33m[\u001b[0m\u001b[0mname\u001b[0m\u001b[1;33m]\u001b[0m\u001b[1;33m\u001b[0m\u001b[1;33m\u001b[0m\u001b[0m\n\u001b[1;32m-> 5465\u001b[1;33m             \u001b[1;32mreturn\u001b[0m \u001b[0mobject\u001b[0m\u001b[1;33m.\u001b[0m\u001b[0m__getattribute__\u001b[0m\u001b[1;33m(\u001b[0m\u001b[0mself\u001b[0m\u001b[1;33m,\u001b[0m \u001b[0mname\u001b[0m\u001b[1;33m)\u001b[0m\u001b[1;33m\u001b[0m\u001b[1;33m\u001b[0m\u001b[0m\n\u001b[0m\u001b[0;32m   5466\u001b[0m \u001b[1;33m\u001b[0m\u001b[0m\n\u001b[0;32m   5467\u001b[0m     \u001b[1;32mdef\u001b[0m \u001b[0m__setattr__\u001b[0m\u001b[1;33m(\u001b[0m\u001b[0mself\u001b[0m\u001b[1;33m,\u001b[0m \u001b[0mname\u001b[0m\u001b[1;33m:\u001b[0m \u001b[0mstr\u001b[0m\u001b[1;33m,\u001b[0m \u001b[0mvalue\u001b[0m\u001b[1;33m)\u001b[0m \u001b[1;33m->\u001b[0m \u001b[1;32mNone\u001b[0m\u001b[1;33m:\u001b[0m\u001b[1;33m\u001b[0m\u001b[1;33m\u001b[0m\u001b[0m\n",
      "\u001b[1;31mAttributeError\u001b[0m: 'Series' object has no attribute 'method'"
     ]
    }
   ],
   "source": [
    "#Leer el fichero y modificarlo\n",
    "df = pd.read_excel(rutaFichero+fichero, sheet_name='venta diaria 152',usecols=\"a:j\",skiprows=5)\n",
    "\n",
    "df2 = df.rename(columns={'Unnamed: 1':'Departamento',\n",
    "                         'Unnamed: 3':'Descripción',\n",
    "                         'Unnamed: 6':'NProveedor'\n",
    "                        })\n",
    "\n",
    "df2['Artículo'] = df2['Artículo'].astype(str)\n",
    "df2['NProveedor'] = df2['NProveedor'].apply(str)\n",
    "df2['Familia'] = df2['Artículo'].str.extract[5:3]"
   ]
  },
  {
   "cell_type": "code",
   "execution_count": 59,
   "metadata": {},
   "outputs": [
    {
     "name": "stdout",
     "output_type": "stream",
     "text": [
      "   Uneco     Departamento        Artículo                     Descripción  \\\n",
      "0    152  ORD.PER.HARDWAR  10152000000014  MERCANCIA SIN IDENTIFICAR        \n",
      "1    152  ORD.PER.HARDWAR  10152000000014  MERCANCIA SIN IDENTIFICAR        \n",
      "2    152  ORD.PER.HARDWAR  10152000000014  MERCANCIA SIN IDENTIFICAR        \n",
      "3    152  ORD.PER.HARDWAR  10152000000014  MERCANCIA SIN IDENTIFICAR        \n",
      "4    152  ORD.PER.HARDWAR  10152000000014  MERCANCIA SIN IDENTIFICAR        \n",
      "5    152  ORD.PER.HARDWAR  10152000000014  MERCANCIA SIN IDENTIFICAR        \n",
      "6    152  ORD.PER.HARDWAR  10152000000014  MERCANCIA SIN IDENTIFICAR        \n",
      "7    152  ORD.PER.HARDWAR  10152000000014  MERCANCIA SIN IDENTIFICAR        \n",
      "8    152  ORD.PER.HARDWAR  10152000000014  MERCANCIA SIN IDENTIFICAR        \n",
      "9    152  ORD.PER.HARDWAR  10152000000014  MERCANCIA SIN IDENTIFICAR        \n",
      "\n",
      "      Marca Actual              Proveedor NProveedor Fecha Venta  \\\n",
      "0  ?                TALLER DE COMPOSTURAS         75  01/09/2021   \n",
      "1  ?                TALLER DE COMPOSTURAS         75  03/09/2021   \n",
      "2  ?                TALLER DE COMPOSTURAS         75  04/09/2021   \n",
      "3  ?                TALLER DE COMPOSTURAS         75  06/09/2021   \n",
      "4  ?                TALLER DE COMPOSTURAS         75  07/09/2021   \n",
      "5  ?                TALLER DE COMPOSTURAS         75  08/09/2021   \n",
      "6  ?                TALLER DE COMPOSTURAS         75  09/09/2021   \n",
      "7  ?                TALLER DE COMPOSTURAS         75  10/09/2021   \n",
      "8  ?                TALLER DE COMPOSTURAS         75  13/09/2021   \n",
      "9  ?                TALLER DE COMPOSTURAS         75  14/09/2021   \n",
      "\n",
      "   Unidades Estándar Terminada  Importe Venta Terminada  Familia  \n",
      "0                            1                  1489.00       14  \n",
      "1                            0                     0.00       14  \n",
      "2                            2                  3194.00       14  \n",
      "3                            1                  2819.00       14  \n",
      "4                            2                  1658.99       14  \n",
      "5                            1                  1925.00       14  \n",
      "6                           -1                  -134.00       14  \n",
      "7                            0                     0.00       14  \n",
      "8                            2                   161.62       14  \n",
      "9                           -2                  -161.62       14  \n"
     ]
    }
   ],
   "source": [
    "print(df2.head(10))\n",
    "#print(df2.dtypes)"
   ]
  },
  {
   "cell_type": "code",
   "execution_count": 21,
   "metadata": {},
   "outputs": [
    {
     "data": {
      "text/plain": [
       "34956274.879999995"
      ]
     },
     "execution_count": 21,
     "metadata": {},
     "output_type": "execute_result"
    }
   ],
   "source": [
    "#venta mes\n",
    "VentaMes = df2['Importe Venta Terminada'].sum()\n",
    "VentaMes"
   ]
  }
 ],
 "metadata": {
  "kernelspec": {
   "display_name": "Python 3",
   "language": "python",
   "name": "python3"
  },
  "language_info": {
   "codemirror_mode": {
    "name": "ipython",
    "version": 3
   },
   "file_extension": ".py",
   "mimetype": "text/x-python",
   "name": "python",
   "nbconvert_exporter": "python",
   "pygments_lexer": "ipython3",
   "version": "3.8.8"
  }
 },
 "nbformat": 4,
 "nbformat_minor": 4
}
