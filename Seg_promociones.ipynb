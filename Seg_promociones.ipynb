{
 "cells": [
  {
   "cell_type": "markdown",
   "metadata": {},
   "source": [
    "Importamos módulos"
   ]
  },
  {
   "cell_type": "code",
   "execution_count": 1,
   "metadata": {},
   "outputs": [],
   "source": [
    "from operator import index\n",
    "from textwrap import indent\n",
    "import pandas as pd\n",
    "import numpy as np\n",
    "import os\n",
    "import sys\n",
    "import shutil\n",
    "import time\n",
    "from random import randint\n",
    "import xlrd\n",
    "import openpyxl\n",
    "# copyright Jorge de Toro de Murga #\n"
   ]
  },
  {
   "cell_type": "code",
   "execution_count": 2,
   "metadata": {},
   "outputs": [],
   "source": [
    "# ruta de las pcps\n",
    "ruta_pcps = \"C:/Users/67075622/El Corte Inglés, S.A/DEPARTAMENTO 152 - Documentos/CONTROL DE REBAJAS/promos macro/\"\n",
    "# ruta de las ventas\n",
    "ventas = pd.read_excel(\n",
    "    \"C:/Users/67075622/El Corte Inglés, S.A/DEPARTAMENTO 152 - Documentos/CONTROL DE REBAJAS/Ventas.xlsx\")"
   ]
  },
  {
   "cell_type": "code",
   "execution_count": 3,
   "metadata": {},
   "outputs": [
    {
     "name": "stderr",
     "output_type": "stream",
     "text": [
      "<ipython-input-3-1af045e51233>:4: SettingWithCopyWarning: \n",
      "A value is trying to be set on a copy of a slice from a DataFrame\n",
      "\n",
      "See the caveats in the documentation: https://pandas.pydata.org/pandas-docs/stable/user_guide/indexing.html#returning-a-view-versus-a-copy\n",
      "  ventas['REFERENCIA'][f] = str(\n"
     ]
    },
    {
     "name": "stdout",
     "output_type": "stream",
     "text": [
      "0             152014\n",
      "1             152014\n",
      "2             152014\n",
      "3             152014\n",
      "4             152014\n",
      "            ...     \n",
      "10188    15288888876\n",
      "10189    15288888876\n",
      "10190    15288888876\n",
      "10191    15288888884\n",
      "10192    15288888884\n",
      "Name: REFERENCIA, Length: 10193, dtype: object\n"
     ]
    }
   ],
   "source": [
    "ventas['REFERENCIA'] = \"\"\n",
    "\n",
    "for f in ventas.index:\n",
    "    ventas['REFERENCIA'][f] = str(\n",
    "        ventas['Uneco'][f]) + str(ventas['Familia de Mercancías'][f]) + str(ventas['barra'][f])\n",
    "\n",
    "print(ventas['REFERENCIA'])\n"
   ]
  },
  {
   "cell_type": "markdown",
   "metadata": {},
   "source": [
    "Junta todas las pcps del directorio"
   ]
  },
  {
   "cell_type": "code",
   "execution_count": null,
   "metadata": {},
   "outputs": [],
   "source": [
    "df = pd.DataFrame()\n",
    "\n",
    "for archivo in os.listdir(ruta_pcps):\n",
    "    df = df.append(pd.read_excel(ruta_pcps+archivo,\n",
    "                   sheet_name='PLANTILLA VISTEX'), ignore_index=True)\n",
    "\n",
    "df['REFERENCIA'] = \"\""
   ]
  },
  {
   "cell_type": "code",
   "execution_count": null,
   "metadata": {},
   "outputs": [],
   "source": [
    "for f in df.index:\n",
    "    df['REFERENCIA'][f] = str(df['UNECO'][f]) + \\\n",
    "        str(df['FAMILIA'][f]) + str(df['REFDES'][f])\n",
    "    fechaI = df['FCHAINI'][f]\n",
    "    fechaf = df['FCHAFIN'][f]\n",
    "    fechaIv = ventas['Fecha Venta']\n",
    "    if fechaIv >= fechaI and fechaIv <= fechaf:\n",
    "        df3 = pd.merge(df['REFERENCIA'][f], ventas['Unidades Estándar Terminada'],\n",
    "                       left_on=df['REFERENCIA'][f], right_on=ventas['REFERENCIA'])\n"
   ]
  },
  {
   "cell_type": "code",
   "execution_count": null,
   "metadata": {},
   "outputs": [],
   "source": [
    "ruta_salida = \"C:/Users/67075622/El Corte Inglés, S.A/DEPARTAMENTO 152 - Documentos/CONTROL DE REBAJAS/\"\n",
    "writer = pd.ExcelWriter(\n",
    "    ruta_salida + \"Total Escenarios.xlsx\", engine='xlsxwriter')\n",
    "df3.to_excel(writer, sheet_name='Promociones')\n",
    "writer.save()"
   ]
  }
 ],
 "metadata": {
  "interpreter": {
   "hash": "b3ba2566441a7c06988d0923437866b63cedc61552a5af99d1f4fb67d367b25f"
  },
  "kernelspec": {
   "display_name": "Python 3.8.8 ('base')",
   "language": "python",
   "name": "python3"
  },
  "language_info": {
   "codemirror_mode": {
    "name": "ipython",
    "version": 3
   },
   "file_extension": ".py",
   "mimetype": "text/x-python",
   "name": "python",
   "nbconvert_exporter": "python",
   "pygments_lexer": "ipython3",
   "version": "3.8.8"
  },
  "orig_nbformat": 4
 },
 "nbformat": 4,
 "nbformat_minor": 2
}
